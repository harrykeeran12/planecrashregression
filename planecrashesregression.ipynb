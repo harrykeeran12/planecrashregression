{
  "nbformat": 4,
  "nbformat_minor": 0,
  "metadata": {
    "colab": {
      "name": "planecrashesregression.ipynb",
      "provenance": [],
      "authorship_tag": "ABX9TyM1nO0unrE/Bk+4zShoTxtz",
      "include_colab_link": true
    },
    "kernelspec": {
      "name": "python3",
      "display_name": "Python 3"
    },
    "language_info": {
      "name": "python"
    }
  },
  "cells": [
    {
      "cell_type": "markdown",
      "metadata": {
        "id": "view-in-github",
        "colab_type": "text"
      },
      "source": [
        "<a href=\"https://colab.research.google.com/github/harrykeeran12/planecrashregression/blob/main/planecrashesregression.ipynb\" target=\"_parent\"><img src=\"https://colab.research.google.com/assets/colab-badge.svg\" alt=\"Open In Colab\"/></a>"
      ]
    },
    {
      "cell_type": "markdown",
      "source": [
        "Initialising modules to be used."
      ],
      "metadata": {
        "id": "TPU1rRw-2-_R"
      }
    },
    {
      "cell_type": "code",
      "execution_count": null,
      "metadata": {
        "id": "vkPPRd5B1tXD"
      },
      "outputs": [],
      "source": [
        "from sklearn import linear_model,metrics #allows us to create a linear model\n",
        "from sklearn.model_selection import train_test_split #allows us to split data\n",
        "from sklearn.metrics import accuracy_score\n",
        "import pickle#allows us to save data.\n",
        "import numpy as np \n",
        "import pandas as pd #allows us to access csv files\n",
        "from sklearn.preprocessing import LabelEncoder#automatically create strings into numbers"
      ]
    },
    {
      "cell_type": "markdown",
      "source": [
        "Get raw data."
      ],
      "metadata": {
        "id": "5lgqSiBH3On_"
      }
    },
    {
      "cell_type": "code",
      "source": [
        "data = pd.read_csv('Plane Crash dataset.csv', encoding = 'unicode_escape', engine ='python')\n",
        "data = data.dropna()\n",
        "display(data.iloc[0])"
      ],
      "metadata": {
        "colab": {
          "base_uri": "https://localhost:8080/",
          "height": 476
        },
        "id": "DO6bHbS93P4J",
        "outputId": "3cd885bd-6c8f-4e13-ab39-441b21b9bf0d"
      },
      "execution_count": null,
      "outputs": [
        {
          "output_type": "display_data",
          "data": {
            "text/plain": [
              "Date                                                       1930-01-19\n",
              "Time                                                       18H 23M 0S\n",
              "Aircraft                                                       Ford 5\n",
              "Operator                                              Maddux Airlines\n",
              "Registration                                                   NC9689\n",
              "Flight phase                                                   Flight\n",
              "Flight type                                  Scheduled Revenue Flight\n",
              "Survivors                                                          No\n",
              "Crash site                                              Plain, Valley\n",
              "Schedule                                        Tijuana  Los Angeles\n",
              "MSN                                                          5-AT-046\n",
              "YOM                                                            1929.0\n",
              "Flight no.                                                     MDX007\n",
              "Crash location                                   Oceanside California\n",
              "Country                                      United States of America\n",
              "Region                                                  North America\n",
              "Crew on board                                                     2.0\n",
              "Crew fatalities                                                   2.0\n",
              "Pax on board                                                     14.0\n",
              "PAX fatalities                                                   14.0\n",
              "Other fatalities                                                  0.0\n",
              "Total fatalities                                                   16\n",
              "Circumstances       En route from Tijuana to Los Angeles, weather ...\n",
              "Crash cause                                                   Weather\n",
              "Name: 1430, dtype: object"
            ]
          },
          "metadata": {}
        }
      ]
    },
    {
      "cell_type": "markdown",
      "source": [
        "Extracting the aircraft brand name\n"
      ],
      "metadata": {
        "id": "sbiLSZuO77oR"
      }
    },
    {
      "cell_type": "code",
      "source": [
        "aircraft_type = data['Aircraft'].values\n",
        "aircraft_names = list(aircraft_type)\n",
        "aircraft_brands = np.array([aircraft_names[i].split(' ')[0] for i in range(len(aircraft_names))])\n",
        "X = aircraft_brands\n",
        "choices = set(aircraft_brands)\n",
        "#X = X.T"
      ],
      "metadata": {
        "id": "nlhTBGHM7-oM"
      },
      "execution_count": null,
      "outputs": []
    },
    {
      "cell_type": "markdown",
      "source": [
        "Label Encoding"
      ],
      "metadata": {
        "id": "xesW3yGY_Nsi"
      }
    },
    {
      "cell_type": "code",
      "source": [
        "Le = LabelEncoder()\n",
        "\n",
        "X = Le.fit_transform(X)\n",
        "X = X.reshape(-1,1)\n",
        "print(X)"
      ],
      "metadata": {
        "colab": {
          "base_uri": "https://localhost:8080/"
        },
        "id": "sUORe8k9_PLr",
        "outputId": "de2b3518-42b9-4c03-bd57-f975e6df2116"
      },
      "execution_count": null,
      "outputs": [
        {
          "output_type": "stream",
          "name": "stdout",
          "text": [
            "[[37]\n",
            " [36]\n",
            " [17]\n",
            " ...\n",
            " [17]\n",
            " [17]\n",
            " [ 5]]\n"
          ]
        }
      ]
    },
    {
      "cell_type": "markdown",
      "source": [
        "Extracting the survivors"
      ],
      "metadata": {
        "id": "pC_XUWhz9w5k"
      }
    },
    {
      "cell_type": "code",
      "source": [
        "survivors = data['Survivors']\n",
        "y = survivors\n",
        "mapping = {\n",
        "    'Yes': 1,\n",
        "    'No': 0\n",
        "}\n",
        "y = np.array(y.map(mapping))\n",
        "print(y)"
      ],
      "metadata": {
        "colab": {
          "base_uri": "https://localhost:8080/"
        },
        "id": "z_eTEBu99wMm",
        "outputId": "6c5e775b-31dd-4e46-9c34-e3ba9a6f1179"
      },
      "execution_count": null,
      "outputs": [
        {
          "output_type": "stream",
          "name": "stdout",
          "text": [
            "[0 0 0 ... 0 1 1]\n"
          ]
        }
      ]
    },
    {
      "cell_type": "markdown",
      "source": [
        "Creating our model"
      ],
      "metadata": {
        "id": "9h27Dql4-eZW"
      }
    },
    {
      "cell_type": "code",
      "source": [
        "Xtrain,Xtest,ytrain,ytest = train_test_split(X,y,test_size=0.2)\n",
        "l_reg = linear_model.LinearRegression()\n",
        "model = l_reg.fit(Xtrain, ytrain)"
      ],
      "metadata": {
        "id": "fcbmEKPy-gFq"
      },
      "execution_count": null,
      "outputs": []
    },
    {
      "cell_type": "markdown",
      "source": [
        "Testing our model"
      ],
      "metadata": {
        "id": "Gvv8FPkCB0Kp"
      }
    },
    {
      "cell_type": "code",
      "source": [
        "overallprediction = model.predict(Xtest)\n",
        "print('Predictions = ', np.around(overallprediction))\n",
        "print('Actual = ', ytest)\n",
        "acc = metrics.accuracy_score(ytest, np.around(overallprediction))\n",
        "print('Accuracy = ', acc)"
      ],
      "metadata": {
        "colab": {
          "base_uri": "https://localhost:8080/"
        },
        "id": "Qw4arWliB2bs",
        "outputId": "5bf6ed38-dbd2-4823-9471-6a1e9aa63d08"
      },
      "execution_count": null,
      "outputs": [
        {
          "output_type": "stream",
          "name": "stdout",
          "text": [
            "Predictions =  [1. 1. 1. 0. 1. 1. 1. 1. 1. 1. 1. 1. 1. 1. 1. 1. 1. 1. 1. 1. 1. 1. 1. 1.\n",
            " 1. 1. 1. 1. 1. 1. 1. 1. 0. 1. 1. 1. 1. 1. 1. 1. 1. 1. 1. 0. 1. 1. 1. 0.\n",
            " 1. 0. 1. 0. 1. 1. 1. 1. 1. 1. 0. 1. 0. 1. 0. 1. 1. 1. 1. 1. 1. 1. 0. 1.\n",
            " 1. 1. 1. 1. 1. 1. 1. 1. 1. 1. 1. 1. 1. 1. 1. 1. 1. 1. 1. 1. 1. 1. 1. 1.\n",
            " 1. 1. 1. 1. 1. 1. 1. 1. 1. 1. 1. 1. 1. 1. 1. 1. 1. 1. 1. 1. 1. 1. 1. 1.\n",
            " 1. 1. 1. 1. 1. 0. 1. 1. 1. 0. 0. 1. 0. 1. 1. 1. 1. 1. 1. 1. 1. 1. 1. 1.\n",
            " 1. 0. 1. 1. 1. 1. 1. 1. 1. 1. 1. 1. 1. 1. 1. 1. 1. 0. 1. 1. 1. 1. 1. 1.\n",
            " 1. 1. 1. 1. 1. 1. 1. 1. 0. 1. 1. 1. 1. 1. 1. 1. 1. 1. 1. 1. 1. 1. 1. 1.\n",
            " 1. 1. 1. 1. 0. 1. 1. 1. 1. 1. 1. 1. 1. 1. 1. 1. 1. 1. 1. 1. 1. 1. 1. 1.\n",
            " 0. 1. 1. 1. 1. 1. 1. 1. 1. 1. 1. 1. 1. 1. 1. 1. 1. 1. 1. 0. 1. 1. 1. 1.\n",
            " 1. 1. 1. 1. 1. 1. 1. 1. 1. 1. 1. 0. 1. 0. 1. 1. 1. 1. 1. 1. 1. 1. 1. 1.\n",
            " 1. 1. 1. 1. 1. 1. 1. 1. 1. 1. 1. 1. 1. 1. 1. 1. 1. 1. 1. 1. 1. 1. 1. 1.\n",
            " 1. 1. 1. 1. 1. 1. 1. 1. 1. 0. 1. 1. 1. 0. 1. 1. 1. 1. 1. 1. 1. 1. 1. 1.\n",
            " 1. 1. 1. 1. 1. 1. 1. 1. 1. 1. 1. 1. 1. 1. 0. 1. 1. 1. 1. 1. 1. 1. 1. 1.\n",
            " 1. 0. 0. 1. 1. 1. 1. 1. 1. 1. 1. 1. 1. 1. 1. 1. 1. 1. 1. 1. 1. 1. 1. 1.\n",
            " 1. 1. 1. 1. 1. 1. 1. 1. 1. 0. 1. 1. 1. 1. 1. 1. 1. 1. 1. 1. 1. 1. 1. 1.\n",
            " 1. 1. 1. 1. 1. 1. 1. 1. 1. 1. 1. 1. 1. 1. 1. 1. 0. 1. 1. 0. 1. 1. 1. 1.\n",
            " 1. 1. 1. 1. 0. 1. 1. 1. 1. 1. 1. 0. 1. 1. 1. 1. 1. 1. 1. 1. 1. 1. 1. 1.\n",
            " 1. 0. 1. 1. 1. 1. 1. 1. 1. 1. 1. 1. 1. 1. 1. 0. 1. 1. 1. 1. 1. 1. 1. 1.\n",
            " 1. 1. 0. 1. 1. 1. 0. 1. 1. 1. 1. 0. 1. 1. 1. 0. 1. 1. 1. 1. 1. 1. 1. 1.\n",
            " 1. 1. 1. 1. 1. 1. 1. 0. 0. 1. 1. 1. 1. 1. 1. 1. 1. 1. 1. 1. 1. 1. 1. 1.\n",
            " 1. 1. 1. 1. 1. 1. 1. 0. 1. 1. 0. 1. 0. 1. 1. 1. 1. 1. 1. 1. 1. 1. 1.]\n",
            "Actual =  [0 1 0 1 1 0 0 1 1 1 0 1 0 1 1 0 1 0 0 0 0 0 1 1 1 1 0 0 1 1 1 1 1 0 1 0 1\n",
            " 1 1 0 1 0 1 0 1 1 0 0 1 1 1 0 1 1 0 1 1 1 0 1 0 0 1 1 1 1 1 1 1 1 0 0 1 1\n",
            " 1 0 1 0 0 1 1 0 1 0 0 1 1 0 1 0 0 1 0 1 0 0 0 1 1 1 1 1 1 0 0 0 0 0 1 1 0\n",
            " 1 1 0 0 1 1 1 1 1 1 1 0 1 0 0 1 1 1 0 0 1 1 1 1 0 1 1 1 1 1 0 1 1 0 0 0 1\n",
            " 1 1 1 1 1 0 1 1 0 1 0 0 0 0 1 0 1 0 1 1 1 0 1 1 0 1 0 0 1 0 1 0 1 0 0 0 1\n",
            " 0 1 1 1 0 1 1 1 0 0 0 0 0 0 1 0 1 1 1 1 0 0 1 1 0 0 1 1 1 1 1 0 0 1 0 1 1\n",
            " 1 1 1 1 1 1 0 1 1 1 1 1 0 1 1 0 1 0 1 1 1 1 1 0 1 0 1 1 0 0 1 0 1 1 1 1 0\n",
            " 1 0 0 1 1 0 0 1 0 0 1 1 1 1 1 0 0 1 1 0 0 0 0 1 1 0 1 1 0 0 1 1 1 1 0 0 0\n",
            " 1 1 1 1 1 1 1 0 1 1 1 1 1 0 1 0 0 1 1 1 1 0 0 1 0 0 1 1 0 0 1 1 1 0 1 1 0\n",
            " 0 0 1 0 0 0 1 1 0 0 0 1 1 1 0 1 1 1 1 1 0 0 1 1 1 0 0 1 1 0 1 1 0 1 0 1 0\n",
            " 0 1 0 1 0 0 1 1 1 0 1 0 1 1 1 1 1 1 0 1 1 0 0 1 1 1 1 0 1 1 0 0 1 0 1 1 1\n",
            " 0 0 0 1 1 1 1 0 1 1 1 1 0 0 0 1 1 0 1 0 1 1 0 1 0 0 1 1 1 0 0 1 0 1 1 1 1\n",
            " 0 0 0 1 1 0 1 0 0 0 0 1 0 0 1 0 1 1 1 1 1 1 0 0 1 0 0 0 0 0 1 1 0 1 0 0 1\n",
            " 0 0 1 0 1 1 1 0 1 1 1 1 0 0 1 1 1 0 1 1 1 1 1 0 1 1 0 0 0 0 0 1 1 0 0 0 1\n",
            " 0 0 1 0 1 1 0 0 0]\n",
            "Accuracy =  0.603415559772296\n"
          ]
        }
      ]
    }
  ]
}